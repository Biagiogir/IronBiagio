{
 "cells": [
  {
   "cell_type": "markdown",
   "id": "fd7314a4",
   "metadata": {},
   "source": [
    "# Lab Customer Analysis Case Study\n",
    "\n",
    "### Activities 1-3"
   ]
  },
  {
   "cell_type": "code",
   "execution_count": 1,
   "id": "0c68008f",
   "metadata": {},
   "outputs": [],
   "source": [
    "import numpy as np\n",
    "import pandas as pd\n",
    "import matplotlib.pyplot as plt\n",
    "%matplotlib inline\n",
    "import seaborn as sns\n",
    "import statsmodels.api as sm\n",
    "from scipy.stats import boxcox\n",
    "import xlrd\n",
    "\n",
    "pd.options.display.max_rows = 50"
   ]
  },
  {
   "cell_type": "code",
   "execution_count": 70,
   "id": "e680e4d3",
   "metadata": {},
   "outputs": [],
   "source": [
    "#importing the data that I will be working on: \n",
    "file1 = pd.read_csv('Data/file1.csv')\n",
    "file2 = pd.read_csv('Data/file2.csv')\n",
    "file3 = pd.read_csv('Data/file3.csv')\n",
    "    "
   ]
  },
  {
   "cell_type": "code",
   "execution_count": 3,
   "id": "90aece66",
   "metadata": {},
   "outputs": [],
   "source": [
    "def rename_file1(file1):\n",
    "    file1.rename(columns={\"ST\" : \"State\"}, inplace =True)\n",
    "    return file1\n",
    "#this is a function that will change a column name to normalize it and make it equal to the already existing \"State\" column:"
   ]
  },
  {
   "cell_type": "code",
   "execution_count": 4,
   "id": "e471d612",
   "metadata": {},
   "outputs": [
    {
     "data": {
      "text/html": [
       "<div>\n",
       "<style scoped>\n",
       "    .dataframe tbody tr th:only-of-type {\n",
       "        vertical-align: middle;\n",
       "    }\n",
       "\n",
       "    .dataframe tbody tr th {\n",
       "        vertical-align: top;\n",
       "    }\n",
       "\n",
       "    .dataframe thead th {\n",
       "        text-align: right;\n",
       "    }\n",
       "</style>\n",
       "<table border=\"1\" class=\"dataframe\">\n",
       "  <thead>\n",
       "    <tr style=\"text-align: right;\">\n",
       "      <th></th>\n",
       "      <th>Customer</th>\n",
       "      <th>State</th>\n",
       "      <th>GENDER</th>\n",
       "      <th>Education</th>\n",
       "      <th>Customer Lifetime Value</th>\n",
       "      <th>Income</th>\n",
       "      <th>Monthly Premium Auto</th>\n",
       "      <th>Number of Open Complaints</th>\n",
       "      <th>Policy Type</th>\n",
       "      <th>Vehicle Class</th>\n",
       "      <th>Total Claim Amount</th>\n",
       "    </tr>\n",
       "  </thead>\n",
       "  <tbody>\n",
       "    <tr>\n",
       "      <th>0</th>\n",
       "      <td>RB50392</td>\n",
       "      <td>Washington</td>\n",
       "      <td>NaN</td>\n",
       "      <td>Master</td>\n",
       "      <td>NaN</td>\n",
       "      <td>0.0</td>\n",
       "      <td>1000.0</td>\n",
       "      <td>1/0/00</td>\n",
       "      <td>Personal Auto</td>\n",
       "      <td>Four-Door Car</td>\n",
       "      <td>2.704934</td>\n",
       "    </tr>\n",
       "    <tr>\n",
       "      <th>1</th>\n",
       "      <td>QZ44356</td>\n",
       "      <td>Arizona</td>\n",
       "      <td>F</td>\n",
       "      <td>Bachelor</td>\n",
       "      <td>697953.59%</td>\n",
       "      <td>0.0</td>\n",
       "      <td>94.0</td>\n",
       "      <td>1/0/00</td>\n",
       "      <td>Personal Auto</td>\n",
       "      <td>Four-Door Car</td>\n",
       "      <td>1131.464935</td>\n",
       "    </tr>\n",
       "    <tr>\n",
       "      <th>2</th>\n",
       "      <td>AI49188</td>\n",
       "      <td>Nevada</td>\n",
       "      <td>F</td>\n",
       "      <td>Bachelor</td>\n",
       "      <td>1288743.17%</td>\n",
       "      <td>48767.0</td>\n",
       "      <td>108.0</td>\n",
       "      <td>1/0/00</td>\n",
       "      <td>Personal Auto</td>\n",
       "      <td>Two-Door Car</td>\n",
       "      <td>566.472247</td>\n",
       "    </tr>\n",
       "    <tr>\n",
       "      <th>3</th>\n",
       "      <td>WW63253</td>\n",
       "      <td>California</td>\n",
       "      <td>M</td>\n",
       "      <td>Bachelor</td>\n",
       "      <td>764586.18%</td>\n",
       "      <td>0.0</td>\n",
       "      <td>106.0</td>\n",
       "      <td>1/0/00</td>\n",
       "      <td>Corporate Auto</td>\n",
       "      <td>SUV</td>\n",
       "      <td>529.881344</td>\n",
       "    </tr>\n",
       "    <tr>\n",
       "      <th>4</th>\n",
       "      <td>GA49547</td>\n",
       "      <td>Washington</td>\n",
       "      <td>M</td>\n",
       "      <td>High School or Below</td>\n",
       "      <td>536307.65%</td>\n",
       "      <td>36357.0</td>\n",
       "      <td>68.0</td>\n",
       "      <td>1/0/00</td>\n",
       "      <td>Personal Auto</td>\n",
       "      <td>Four-Door Car</td>\n",
       "      <td>17.269323</td>\n",
       "    </tr>\n",
       "    <tr>\n",
       "      <th>...</th>\n",
       "      <td>...</td>\n",
       "      <td>...</td>\n",
       "      <td>...</td>\n",
       "      <td>...</td>\n",
       "      <td>...</td>\n",
       "      <td>...</td>\n",
       "      <td>...</td>\n",
       "      <td>...</td>\n",
       "      <td>...</td>\n",
       "      <td>...</td>\n",
       "      <td>...</td>\n",
       "    </tr>\n",
       "    <tr>\n",
       "      <th>4003</th>\n",
       "      <td>NaN</td>\n",
       "      <td>NaN</td>\n",
       "      <td>NaN</td>\n",
       "      <td>NaN</td>\n",
       "      <td>NaN</td>\n",
       "      <td>NaN</td>\n",
       "      <td>NaN</td>\n",
       "      <td>NaN</td>\n",
       "      <td>NaN</td>\n",
       "      <td>NaN</td>\n",
       "      <td>NaN</td>\n",
       "    </tr>\n",
       "    <tr>\n",
       "      <th>4004</th>\n",
       "      <td>NaN</td>\n",
       "      <td>NaN</td>\n",
       "      <td>NaN</td>\n",
       "      <td>NaN</td>\n",
       "      <td>NaN</td>\n",
       "      <td>NaN</td>\n",
       "      <td>NaN</td>\n",
       "      <td>NaN</td>\n",
       "      <td>NaN</td>\n",
       "      <td>NaN</td>\n",
       "      <td>NaN</td>\n",
       "    </tr>\n",
       "    <tr>\n",
       "      <th>4005</th>\n",
       "      <td>NaN</td>\n",
       "      <td>NaN</td>\n",
       "      <td>NaN</td>\n",
       "      <td>NaN</td>\n",
       "      <td>NaN</td>\n",
       "      <td>NaN</td>\n",
       "      <td>NaN</td>\n",
       "      <td>NaN</td>\n",
       "      <td>NaN</td>\n",
       "      <td>NaN</td>\n",
       "      <td>NaN</td>\n",
       "    </tr>\n",
       "    <tr>\n",
       "      <th>4006</th>\n",
       "      <td>NaN</td>\n",
       "      <td>NaN</td>\n",
       "      <td>NaN</td>\n",
       "      <td>NaN</td>\n",
       "      <td>NaN</td>\n",
       "      <td>NaN</td>\n",
       "      <td>NaN</td>\n",
       "      <td>NaN</td>\n",
       "      <td>NaN</td>\n",
       "      <td>NaN</td>\n",
       "      <td>NaN</td>\n",
       "    </tr>\n",
       "    <tr>\n",
       "      <th>4007</th>\n",
       "      <td>NaN</td>\n",
       "      <td>NaN</td>\n",
       "      <td>NaN</td>\n",
       "      <td>NaN</td>\n",
       "      <td>NaN</td>\n",
       "      <td>NaN</td>\n",
       "      <td>NaN</td>\n",
       "      <td>NaN</td>\n",
       "      <td>NaN</td>\n",
       "      <td>NaN</td>\n",
       "      <td>NaN</td>\n",
       "    </tr>\n",
       "  </tbody>\n",
       "</table>\n",
       "<p>4008 rows × 11 columns</p>\n",
       "</div>"
      ],
      "text/plain": [
       "     Customer       State GENDER             Education  \\\n",
       "0     RB50392  Washington    NaN                Master   \n",
       "1     QZ44356     Arizona      F              Bachelor   \n",
       "2     AI49188      Nevada      F              Bachelor   \n",
       "3     WW63253  California      M              Bachelor   \n",
       "4     GA49547  Washington      M  High School or Below   \n",
       "...       ...         ...    ...                   ...   \n",
       "4003      NaN         NaN    NaN                   NaN   \n",
       "4004      NaN         NaN    NaN                   NaN   \n",
       "4005      NaN         NaN    NaN                   NaN   \n",
       "4006      NaN         NaN    NaN                   NaN   \n",
       "4007      NaN         NaN    NaN                   NaN   \n",
       "\n",
       "     Customer Lifetime Value   Income  Monthly Premium Auto  \\\n",
       "0                        NaN      0.0                1000.0   \n",
       "1                 697953.59%      0.0                  94.0   \n",
       "2                1288743.17%  48767.0                 108.0   \n",
       "3                 764586.18%      0.0                 106.0   \n",
       "4                 536307.65%  36357.0                  68.0   \n",
       "...                      ...      ...                   ...   \n",
       "4003                     NaN      NaN                   NaN   \n",
       "4004                     NaN      NaN                   NaN   \n",
       "4005                     NaN      NaN                   NaN   \n",
       "4006                     NaN      NaN                   NaN   \n",
       "4007                     NaN      NaN                   NaN   \n",
       "\n",
       "     Number of Open Complaints     Policy Type  Vehicle Class  \\\n",
       "0                       1/0/00   Personal Auto  Four-Door Car   \n",
       "1                       1/0/00   Personal Auto  Four-Door Car   \n",
       "2                       1/0/00   Personal Auto   Two-Door Car   \n",
       "3                       1/0/00  Corporate Auto            SUV   \n",
       "4                       1/0/00   Personal Auto  Four-Door Car   \n",
       "...                        ...             ...            ...   \n",
       "4003                       NaN             NaN            NaN   \n",
       "4004                       NaN             NaN            NaN   \n",
       "4005                       NaN             NaN            NaN   \n",
       "4006                       NaN             NaN            NaN   \n",
       "4007                       NaN             NaN            NaN   \n",
       "\n",
       "      Total Claim Amount  \n",
       "0               2.704934  \n",
       "1            1131.464935  \n",
       "2             566.472247  \n",
       "3             529.881344  \n",
       "4              17.269323  \n",
       "...                  ...  \n",
       "4003                 NaN  \n",
       "4004                 NaN  \n",
       "4005                 NaN  \n",
       "4006                 NaN  \n",
       "4007                 NaN  \n",
       "\n",
       "[4008 rows x 11 columns]"
      ]
     },
     "execution_count": 4,
     "metadata": {},
     "output_type": "execute_result"
    }
   ],
   "source": [
    "rename_file1(file1)"
   ]
  },
  {
   "cell_type": "code",
   "execution_count": 5,
   "id": "6b8dd709",
   "metadata": {},
   "outputs": [
    {
     "data": {
      "text/plain": [
       "['Customer',\n",
       " 'State',\n",
       " 'GENDER',\n",
       " 'Education',\n",
       " 'Customer Lifetime Value',\n",
       " 'Income',\n",
       " 'Monthly Premium Auto',\n",
       " 'Number of Open Complaints',\n",
       " 'Policy Type',\n",
       " 'Vehicle Class',\n",
       " 'Total Claim Amount']"
      ]
     },
     "execution_count": 5,
     "metadata": {},
     "output_type": "execute_result"
    }
   ],
   "source": [
    "list(file1.columns)"
   ]
  },
  {
   "cell_type": "code",
   "execution_count": 6,
   "id": "c97a947a",
   "metadata": {},
   "outputs": [
    {
     "data": {
      "text/plain": [
       "['Customer',\n",
       " 'State',\n",
       " 'GENDER',\n",
       " 'Education',\n",
       " 'Customer Lifetime Value',\n",
       " 'Income',\n",
       " 'Monthly Premium Auto',\n",
       " 'Number of Open Complaints',\n",
       " 'Total Claim Amount',\n",
       " 'Policy Type',\n",
       " 'Vehicle Class']"
      ]
     },
     "execution_count": 6,
     "metadata": {},
     "output_type": "execute_result"
    }
   ],
   "source": [
    "def rename_file2(file2):\n",
    "    file2.rename(columns={\"ST\" : \"State\"}, inplace =True)\n",
    "    return file2\n",
    "rename_file2(file2)\n",
    "list(file2.columns)"
   ]
  },
  {
   "cell_type": "code",
   "execution_count": 7,
   "id": "8297b890",
   "metadata": {},
   "outputs": [],
   "source": [
    "def lower_lc_cloumns():\n",
    "    file1.columns=[i.lower() for i in file1.columns]\n",
    "    file2.columns=[i.lower() for i in file2.columns]\n",
    "    file3.columns=[i.lower() for i in file3.columns]\n",
    "    \n",
    "#this is a function that will change all column names to lower case: \n"
   ]
  },
  {
   "cell_type": "code",
   "execution_count": 8,
   "id": "f6dd1768",
   "metadata": {},
   "outputs": [],
   "source": [
    "lower_lc_cloumns()"
   ]
  },
  {
   "cell_type": "code",
   "execution_count": 10,
   "id": "60446b8f",
   "metadata": {},
   "outputs": [],
   "source": [
    "def concatenate_df():\n",
    "    return pd.concat([file1,file2,file3])\n",
    "#this function merges the 3 files into 1 dataframe"
   ]
  },
  {
   "cell_type": "code",
   "execution_count": 11,
   "id": "5b1790e2",
   "metadata": {},
   "outputs": [],
   "source": [
    "df = concatenate_df()"
   ]
  },
  {
   "cell_type": "code",
   "execution_count": 13,
   "id": "eb64614a",
   "metadata": {},
   "outputs": [],
   "source": [
    "def drop_customer(df):\n",
    "    df.drop(columns=\"customer\", inplace=True)\n",
    "    return df\n",
    "#this function delete the column \"customer\""
   ]
  },
  {
   "cell_type": "code",
   "execution_count": 14,
   "id": "104764b5",
   "metadata": {},
   "outputs": [
    {
     "data": {
      "text/html": [
       "<div>\n",
       "<style scoped>\n",
       "    .dataframe tbody tr th:only-of-type {\n",
       "        vertical-align: middle;\n",
       "    }\n",
       "\n",
       "    .dataframe tbody tr th {\n",
       "        vertical-align: top;\n",
       "    }\n",
       "\n",
       "    .dataframe thead th {\n",
       "        text-align: right;\n",
       "    }\n",
       "</style>\n",
       "<table border=\"1\" class=\"dataframe\">\n",
       "  <thead>\n",
       "    <tr style=\"text-align: right;\">\n",
       "      <th></th>\n",
       "      <th>state</th>\n",
       "      <th>gender</th>\n",
       "      <th>education</th>\n",
       "      <th>customer lifetime value</th>\n",
       "      <th>income</th>\n",
       "      <th>monthly premium auto</th>\n",
       "      <th>number of open complaints</th>\n",
       "      <th>policy type</th>\n",
       "      <th>vehicle class</th>\n",
       "      <th>total claim amount</th>\n",
       "    </tr>\n",
       "  </thead>\n",
       "  <tbody>\n",
       "    <tr>\n",
       "      <th>0</th>\n",
       "      <td>Washington</td>\n",
       "      <td>NaN</td>\n",
       "      <td>Master</td>\n",
       "      <td>NaN</td>\n",
       "      <td>0.0</td>\n",
       "      <td>1000.0</td>\n",
       "      <td>1/0/00</td>\n",
       "      <td>Personal Auto</td>\n",
       "      <td>Four-Door Car</td>\n",
       "      <td>2.704934</td>\n",
       "    </tr>\n",
       "    <tr>\n",
       "      <th>1</th>\n",
       "      <td>Arizona</td>\n",
       "      <td>F</td>\n",
       "      <td>Bachelor</td>\n",
       "      <td>697953.59%</td>\n",
       "      <td>0.0</td>\n",
       "      <td>94.0</td>\n",
       "      <td>1/0/00</td>\n",
       "      <td>Personal Auto</td>\n",
       "      <td>Four-Door Car</td>\n",
       "      <td>1131.464935</td>\n",
       "    </tr>\n",
       "    <tr>\n",
       "      <th>2</th>\n",
       "      <td>Nevada</td>\n",
       "      <td>F</td>\n",
       "      <td>Bachelor</td>\n",
       "      <td>1288743.17%</td>\n",
       "      <td>48767.0</td>\n",
       "      <td>108.0</td>\n",
       "      <td>1/0/00</td>\n",
       "      <td>Personal Auto</td>\n",
       "      <td>Two-Door Car</td>\n",
       "      <td>566.472247</td>\n",
       "    </tr>\n",
       "    <tr>\n",
       "      <th>3</th>\n",
       "      <td>California</td>\n",
       "      <td>M</td>\n",
       "      <td>Bachelor</td>\n",
       "      <td>764586.18%</td>\n",
       "      <td>0.0</td>\n",
       "      <td>106.0</td>\n",
       "      <td>1/0/00</td>\n",
       "      <td>Corporate Auto</td>\n",
       "      <td>SUV</td>\n",
       "      <td>529.881344</td>\n",
       "    </tr>\n",
       "    <tr>\n",
       "      <th>4</th>\n",
       "      <td>Washington</td>\n",
       "      <td>M</td>\n",
       "      <td>High School or Below</td>\n",
       "      <td>536307.65%</td>\n",
       "      <td>36357.0</td>\n",
       "      <td>68.0</td>\n",
       "      <td>1/0/00</td>\n",
       "      <td>Personal Auto</td>\n",
       "      <td>Four-Door Car</td>\n",
       "      <td>17.269323</td>\n",
       "    </tr>\n",
       "    <tr>\n",
       "      <th>...</th>\n",
       "      <td>...</td>\n",
       "      <td>...</td>\n",
       "      <td>...</td>\n",
       "      <td>...</td>\n",
       "      <td>...</td>\n",
       "      <td>...</td>\n",
       "      <td>...</td>\n",
       "      <td>...</td>\n",
       "      <td>...</td>\n",
       "      <td>...</td>\n",
       "    </tr>\n",
       "    <tr>\n",
       "      <th>7065</th>\n",
       "      <td>California</td>\n",
       "      <td>M</td>\n",
       "      <td>Bachelor</td>\n",
       "      <td>23405.98798</td>\n",
       "      <td>71941.0</td>\n",
       "      <td>73.0</td>\n",
       "      <td>0</td>\n",
       "      <td>Personal Auto</td>\n",
       "      <td>Four-Door Car</td>\n",
       "      <td>198.234764</td>\n",
       "    </tr>\n",
       "    <tr>\n",
       "      <th>7066</th>\n",
       "      <td>California</td>\n",
       "      <td>F</td>\n",
       "      <td>College</td>\n",
       "      <td>3096.511217</td>\n",
       "      <td>21604.0</td>\n",
       "      <td>79.0</td>\n",
       "      <td>0</td>\n",
       "      <td>Corporate Auto</td>\n",
       "      <td>Four-Door Car</td>\n",
       "      <td>379.200000</td>\n",
       "    </tr>\n",
       "    <tr>\n",
       "      <th>7067</th>\n",
       "      <td>California</td>\n",
       "      <td>M</td>\n",
       "      <td>Bachelor</td>\n",
       "      <td>8163.890428</td>\n",
       "      <td>0.0</td>\n",
       "      <td>85.0</td>\n",
       "      <td>3</td>\n",
       "      <td>Corporate Auto</td>\n",
       "      <td>Four-Door Car</td>\n",
       "      <td>790.784983</td>\n",
       "    </tr>\n",
       "    <tr>\n",
       "      <th>7068</th>\n",
       "      <td>California</td>\n",
       "      <td>M</td>\n",
       "      <td>College</td>\n",
       "      <td>7524.442436</td>\n",
       "      <td>21941.0</td>\n",
       "      <td>96.0</td>\n",
       "      <td>0</td>\n",
       "      <td>Personal Auto</td>\n",
       "      <td>Four-Door Car</td>\n",
       "      <td>691.200000</td>\n",
       "    </tr>\n",
       "    <tr>\n",
       "      <th>7069</th>\n",
       "      <td>California</td>\n",
       "      <td>M</td>\n",
       "      <td>College</td>\n",
       "      <td>2611.836866</td>\n",
       "      <td>0.0</td>\n",
       "      <td>77.0</td>\n",
       "      <td>0</td>\n",
       "      <td>Corporate Auto</td>\n",
       "      <td>Two-Door Car</td>\n",
       "      <td>369.600000</td>\n",
       "    </tr>\n",
       "  </tbody>\n",
       "</table>\n",
       "<p>12074 rows × 10 columns</p>\n",
       "</div>"
      ],
      "text/plain": [
       "           state gender             education customer lifetime value  \\\n",
       "0     Washington    NaN                Master                     NaN   \n",
       "1        Arizona      F              Bachelor              697953.59%   \n",
       "2         Nevada      F              Bachelor             1288743.17%   \n",
       "3     California      M              Bachelor              764586.18%   \n",
       "4     Washington      M  High School or Below              536307.65%   \n",
       "...          ...    ...                   ...                     ...   \n",
       "7065  California      M              Bachelor             23405.98798   \n",
       "7066  California      F               College             3096.511217   \n",
       "7067  California      M              Bachelor             8163.890428   \n",
       "7068  California      M               College             7524.442436   \n",
       "7069  California      M               College             2611.836866   \n",
       "\n",
       "       income  monthly premium auto number of open complaints     policy type  \\\n",
       "0         0.0                1000.0                    1/0/00   Personal Auto   \n",
       "1         0.0                  94.0                    1/0/00   Personal Auto   \n",
       "2     48767.0                 108.0                    1/0/00   Personal Auto   \n",
       "3         0.0                 106.0                    1/0/00  Corporate Auto   \n",
       "4     36357.0                  68.0                    1/0/00   Personal Auto   \n",
       "...       ...                   ...                       ...             ...   \n",
       "7065  71941.0                  73.0                         0   Personal Auto   \n",
       "7066  21604.0                  79.0                         0  Corporate Auto   \n",
       "7067      0.0                  85.0                         3  Corporate Auto   \n",
       "7068  21941.0                  96.0                         0   Personal Auto   \n",
       "7069      0.0                  77.0                         0  Corporate Auto   \n",
       "\n",
       "      vehicle class  total claim amount  \n",
       "0     Four-Door Car            2.704934  \n",
       "1     Four-Door Car         1131.464935  \n",
       "2      Two-Door Car          566.472247  \n",
       "3               SUV          529.881344  \n",
       "4     Four-Door Car           17.269323  \n",
       "...             ...                 ...  \n",
       "7065  Four-Door Car          198.234764  \n",
       "7066  Four-Door Car          379.200000  \n",
       "7067  Four-Door Car          790.784983  \n",
       "7068  Four-Door Car          691.200000  \n",
       "7069   Two-Door Car          369.600000  \n",
       "\n",
       "[12074 rows x 10 columns]"
      ]
     },
     "execution_count": 14,
     "metadata": {},
     "output_type": "execute_result"
    }
   ],
   "source": [
    "drop_customer(df)"
   ]
  },
  {
   "cell_type": "code",
   "execution_count": 75,
   "id": "bd67cb2a",
   "metadata": {},
   "outputs": [],
   "source": [
    "#df.info()"
   ]
  },
  {
   "cell_type": "code",
   "execution_count": 17,
   "id": "aaa926fd",
   "metadata": {},
   "outputs": [],
   "source": [
    "def clean_values(value):\n",
    "    if \"%\" in str(value):\n",
    "        return float(value.replace(\"%\", \"\"))/100\n",
    "    else:\n",
    "        return float(value)\n",
    "    #this function delete the % value"
   ]
  },
  {
   "cell_type": "code",
   "execution_count": 74,
   "id": "0fe71498",
   "metadata": {},
   "outputs": [],
   "source": [
    "df['customer lifetime value'] = list(map(clean_values, df['customer lifetime value']))\n"
   ]
  },
  {
   "cell_type": "code",
   "execution_count": 20,
   "id": "7016ca66",
   "metadata": {},
   "outputs": [
    {
     "data": {
      "text/plain": [
       "array([nan, 'F', 'M', 'Femal', 'Male', 'female'], dtype=object)"
      ]
     },
     "execution_count": 20,
     "metadata": {},
     "output_type": "execute_result"
    }
   ],
   "source": [
    "df.gender.unique()"
   ]
  },
  {
   "cell_type": "code",
   "execution_count": 21,
   "id": "0cc4a096",
   "metadata": {},
   "outputs": [],
   "source": [
    "def gender_rename(a):\n",
    "    if a == (\"F\" or \"Femal\" or \"female\"):\n",
    "         return \"Female\"\n",
    "    elif a == (\"M\" or \"Male\"):\n",
    "         return \"Male\"\n",
    "    else:\n",
    "         return \n",
    "    \n",
    "    #this function normalize the gender column"
   ]
  },
  {
   "cell_type": "code",
   "execution_count": 22,
   "id": "f8c8d78d",
   "metadata": {},
   "outputs": [],
   "source": [
    "df['gender'] = list(map(gender_rename, df['gender']))"
   ]
  },
  {
   "cell_type": "code",
   "execution_count": 24,
   "id": "0506287e",
   "metadata": {},
   "outputs": [
    {
     "data": {
      "text/plain": [
       "array(['Washington', 'Arizona', 'Nevada', 'California', 'Oregon', 'Cali',\n",
       "       'AZ', 'WA', nan], dtype=object)"
      ]
     },
     "execution_count": 24,
     "metadata": {},
     "output_type": "execute_result"
    }
   ],
   "source": [
    "df.state.unique()"
   ]
  },
  {
   "cell_type": "code",
   "execution_count": 25,
   "id": "4b192112",
   "metadata": {},
   "outputs": [],
   "source": [
    "def state_rename(b):\n",
    "    if b == (\"Cali\"):\n",
    "         return \"California\"\n",
    "    elif b == (\"AZ\"):\n",
    "         return \"Arizona\"\n",
    "    elif b == \"WA\":\n",
    "         return \"Washington\"\n",
    "    else:\n",
    "        return b\n",
    "        #this function normalize the state column"
   ]
  },
  {
   "cell_type": "code",
   "execution_count": 73,
   "id": "a7334427",
   "metadata": {},
   "outputs": [],
   "source": [
    "df['state'] = list(map(state_rename, df['state']))\n"
   ]
  },
  {
   "cell_type": "code",
   "execution_count": 27,
   "id": "59b08fd2",
   "metadata": {},
   "outputs": [
    {
     "data": {
      "text/plain": [
       "array(['Washington', 'Arizona', 'Nevada', 'California', 'Oregon', nan],\n",
       "      dtype=object)"
      ]
     },
     "execution_count": 27,
     "metadata": {},
     "output_type": "execute_result"
    }
   ],
   "source": [
    "df.state.unique()"
   ]
  },
  {
   "cell_type": "code",
   "execution_count": 28,
   "id": "1740b9cc",
   "metadata": {},
   "outputs": [],
   "source": [
    "df.drop_duplicates(inplace = True)\n",
    "    #this function deletes duplicate rows"
   ]
  },
  {
   "cell_type": "code",
   "execution_count": 29,
   "id": "c3d3eab5",
   "metadata": {},
   "outputs": [
    {
     "data": {
      "text/plain": [
       "7984.655747314654"
      ]
     },
     "execution_count": 29,
     "metadata": {},
     "output_type": "execute_result"
    }
   ],
   "source": [
    "mean_customer_LTV = np.mean(df['customer lifetime value'])\n",
    "mean_customer_LTV"
   ]
  },
  {
   "cell_type": "code",
   "execution_count": 30,
   "id": "61ccc28e",
   "metadata": {},
   "outputs": [],
   "source": [
    "df['customer lifetime value'] = df['customer lifetime value'].fillna(mean_customer_LTV)\n",
    "    #this function changes NA values of the column with its mean"
   ]
  },
  {
   "cell_type": "code",
   "execution_count": 31,
   "id": "4926e1af",
   "metadata": {},
   "outputs": [
    {
     "data": {
      "text/plain": [
       "0.0        2257\n",
       "95697.0      12\n",
       "61108.0       8\n",
       "26876.0       8\n",
       "24910.0       7\n",
       "           ... \n",
       "85412.0       1\n",
       "42968.0       1\n",
       "16711.0       1\n",
       "10337.0       1\n",
       "21941.0       1\n",
       "Name: income, Length: 5656, dtype: int64"
      ]
     },
     "execution_count": 31,
     "metadata": {},
     "output_type": "execute_result"
    }
   ],
   "source": [
    "df[\"income\"].value_counts(dropna=False)"
   ]
  },
  {
   "cell_type": "code",
   "execution_count": 32,
   "id": "6b149684",
   "metadata": {},
   "outputs": [],
   "source": [
    "mean_total_claim = np.mean(df['total claim amount'])\n",
    "df['total claim amount'] = df['total claim amount'].fillna(mean_total_claim)"
   ]
  },
  {
   "cell_type": "code",
   "execution_count": 33,
   "id": "8685de27",
   "metadata": {},
   "outputs": [
    {
     "data": {
      "text/plain": [
       "65.0     339\n",
       "71.0     298\n",
       "66.0     297\n",
       "73.0     291\n",
       "67.0     283\n",
       "        ... \n",
       "178.0      1\n",
       "204.0      1\n",
       "281.0      1\n",
       "275.0      1\n",
       "286.0      1\n",
       "Name: monthly premium auto, Length: 210, dtype: int64"
      ]
     },
     "execution_count": 33,
     "metadata": {},
     "output_type": "execute_result"
    }
   ],
   "source": [
    "df[\"monthly premium auto\"].value_counts(dropna=False)"
   ]
  },
  {
   "cell_type": "code",
   "execution_count": 34,
   "id": "f03038b7",
   "metadata": {},
   "outputs": [
    {
     "name": "stdout",
     "output_type": "stream",
     "text": [
      "65.0     339\n",
      "71.0     298\n",
      "66.0     297\n",
      "73.0     291\n",
      "67.0     283\n",
      "        ... \n",
      "178.0      1\n",
      "204.0      1\n",
      "281.0      1\n",
      "275.0      1\n",
      "286.0      1\n",
      "Name: monthly premium auto, Length: 209, dtype: int64\n"
     ]
    }
   ],
   "source": [
    "print(df[\"monthly premium auto\"].value_counts())"
   ]
  },
  {
   "cell_type": "code",
   "execution_count": 35,
   "id": "07985d1c",
   "metadata": {},
   "outputs": [],
   "source": [
    "mean_monthly_premium = np.mean(df['monthly premium auto'])\n",
    "df['monthly premium auto'] = df['monthly premium auto'].fillna(mean_monthly_premium)"
   ]
  },
  {
   "cell_type": "code",
   "execution_count": 36,
   "id": "f0d28680",
   "metadata": {},
   "outputs": [
    {
     "data": {
      "text/plain": [
       "0         5421\n",
       "1/0/00    1615\n",
       "1          749\n",
       "2          279\n",
       "1/1/00     244\n",
       "3          221\n",
       "4          114\n",
       "1/2/00      93\n",
       "1/3/00      58\n",
       "5           43\n",
       "1/4/00      28\n",
       "1/5/00      12\n",
       "Name: number of open complaints, dtype: int64"
      ]
     },
     "execution_count": 36,
     "metadata": {},
     "output_type": "execute_result"
    }
   ],
   "source": [
    "df[\"number of open complaints\"].value_counts()"
   ]
  },
  {
   "cell_type": "code",
   "execution_count": 37,
   "id": "0d46e767",
   "metadata": {},
   "outputs": [],
   "source": [
    "def complaints_clean(y):\n",
    "    if type(y) == str:\n",
    "        return int(y.split(\"/\")[1])\n",
    "    else:\n",
    "        return y\n",
    "    \n",
    "    #this function cleans the column by taking the first value after the /"
   ]
  },
  {
   "cell_type": "code",
   "execution_count": 38,
   "id": "87edab85",
   "metadata": {},
   "outputs": [
    {
     "data": {
      "text/plain": [
       "2"
      ]
     },
     "execution_count": 38,
     "metadata": {},
     "output_type": "execute_result"
    }
   ],
   "source": [
    "complaints_clean(\"1/2/00\")"
   ]
  },
  {
   "cell_type": "code",
   "execution_count": 39,
   "id": "ad534cf4",
   "metadata": {},
   "outputs": [],
   "source": [
    "df[\"number of open complaints\"] = list(map(complaints_clean, df[\"number of open complaints\"]))"
   ]
  },
  {
   "cell_type": "code",
   "execution_count": 72,
   "id": "ed9012f6",
   "metadata": {},
   "outputs": [],
   "source": [
    "median_open_complaints = np.median(df['number of open complaints'])\n",
    "df['number of open complaints'] = df['number of open complaints'].fillna(median_open_complaints)\n",
    "df['number of open complaints'] = df['number of open complaints'].astype('int')"
   ]
  },
  {
   "cell_type": "code",
   "execution_count": 41,
   "id": "52d471a4",
   "metadata": {},
   "outputs": [
    {
     "data": {
      "text/plain": [
       "0.0        2257\n",
       "95697.0      12\n",
       "26876.0       8\n",
       "61108.0       8\n",
       "25965.0       7\n",
       "           ... \n",
       "75774.0       1\n",
       "85412.0       1\n",
       "42968.0       1\n",
       "16711.0       1\n",
       "21941.0       1\n",
       "Name: income, Length: 5655, dtype: int64"
      ]
     },
     "execution_count": 41,
     "metadata": {},
     "output_type": "execute_result"
    }
   ],
   "source": [
    "df[\"income\"].value_counts()"
   ]
  },
  {
   "cell_type": "code",
   "execution_count": 42,
   "id": "cc77d2fe",
   "metadata": {},
   "outputs": [
    {
     "data": {
      "text/plain": [
       "0.0        2257\n",
       "95697.0      12\n",
       "61108.0       8\n",
       "26876.0       8\n",
       "24910.0       7\n",
       "           ... \n",
       "85412.0       1\n",
       "42968.0       1\n",
       "16711.0       1\n",
       "10337.0       1\n",
       "21941.0       1\n",
       "Name: income, Length: 5656, dtype: int64"
      ]
     },
     "execution_count": 42,
     "metadata": {},
     "output_type": "execute_result"
    }
   ],
   "source": [
    "df[\"income\"].value_counts(dropna=False)"
   ]
  },
  {
   "cell_type": "code",
   "execution_count": 71,
   "id": "adcea310",
   "metadata": {},
   "outputs": [],
   "source": [
    "median_income = np.median(df['income'])\n",
    "df['income'] = df['income'].fillna(median_income)"
   ]
  },
  {
   "cell_type": "code",
   "execution_count": 45,
   "id": "1bc6d235",
   "metadata": {},
   "outputs": [],
   "source": [
    "df.insert(1, \"region\", list(map(lambda x: \"West Region\" if x==\"California\" else \"East\" if x==\"Washington\" else \"North West\" if x==\"Oregon\" else \"Central\", df.state)))\n"
   ]
  },
  {
   "cell_type": "code",
   "execution_count": 69,
   "id": "1b97986b",
   "metadata": {},
   "outputs": [],
   "source": [
    "df = df.apply(lambda x: x.str.lower() if(x.dtype == str) else x)"
   ]
  },
  {
   "cell_type": "code",
   "execution_count": 55,
   "id": "e99a8071",
   "metadata": {},
   "outputs": [],
   "source": [
    "df = df.applymap(lambda x: x.lower() if type(x) == str else x)"
   ]
  },
  {
   "cell_type": "code",
   "execution_count": 67,
   "id": "3d8b8bbd",
   "metadata": {},
   "outputs": [
    {
     "data": {
      "text/plain": [
       "['customer lifetime value',\n",
       " 'income',\n",
       " 'monthly premium auto',\n",
       " 'number of open complaints',\n",
       " 'total claim amount']"
      ]
     },
     "execution_count": 67,
     "metadata": {},
     "output_type": "execute_result"
    }
   ],
   "source": [
    "df.select_dtypes(include= np.number).columns.tolist()"
   ]
  },
  {
   "cell_type": "code",
   "execution_count": 66,
   "id": "de48fd74",
   "metadata": {},
   "outputs": [
    {
     "data": {
      "text/plain": [
       "['state', 'region', 'gender', 'education', 'policy type', 'vehicle class']"
      ]
     },
     "execution_count": 66,
     "metadata": {},
     "output_type": "execute_result"
    }
   ],
   "source": [
    "df.select_dtypes(include=\"object\").columns.tolist()"
   ]
  },
  {
   "cell_type": "code",
   "execution_count": null,
   "id": "bf854a7b",
   "metadata": {},
   "outputs": [],
   "source": []
  }
 ],
 "metadata": {
  "kernelspec": {
   "display_name": "Python 3 (ipykernel)",
   "language": "python",
   "name": "python3"
  },
  "language_info": {
   "codemirror_mode": {
    "name": "ipython",
    "version": 3
   },
   "file_extension": ".py",
   "mimetype": "text/x-python",
   "name": "python",
   "nbconvert_exporter": "python",
   "pygments_lexer": "ipython3",
   "version": "3.9.7"
  }
 },
 "nbformat": 4,
 "nbformat_minor": 5
}
