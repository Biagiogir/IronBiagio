{
 "cells": [
  {
   "cell_type": "markdown",
   "id": "239b6acc",
   "metadata": {
    "slideshow": {
     "slide_type": "slide"
    }
   },
   "source": [
    "\n",
    "### Table of Contents\n",
    "\n",
    "* [1. Holiday Preference](#Title)\n",
    "   * [1.1 Location](#\"Lanzarote\")\n",
    "   * [1.2 Favorite Activities](#\"Activities\")\n",
    "   * [1.3 Video](#Video)\n",
    "   * [1.4 Notes](#Notes)\n",
    "   \n",
    "   \n",
    "\n",
    "    "
   ]
  },
  {
   "cell_type": "markdown",
   "id": "e7e33b8e",
   "metadata": {
    "slideshow": {
     "slide_type": "slide"
    }
   },
   "source": [
    "## Holiday Preference <a class=\"anchor\" id=\"Title\"></a>\n",
    "\n"
   ]
  },
  {
   "cell_type": "markdown",
   "id": "215354c1",
   "metadata": {
    "slideshow": {
     "slide_type": "subslide"
    }
   },
   "source": [
    "In this Notebook I will introduce my holiday preference."
   ]
  },
  {
   "cell_type": "code",
   "execution_count": 1,
   "id": "94d8561d",
   "metadata": {
    "slideshow": {
     "slide_type": "subslide"
    }
   },
   "outputs": [
    {
     "name": "stdout",
     "output_type": "stream",
     "text": [
      "name:Biagio\n"
     ]
    },
    {
     "data": {
      "text/plain": [
       "'Biagio'"
      ]
     },
     "execution_count": 1,
     "metadata": {},
     "output_type": "execute_result"
    }
   ],
   "source": [
    "input(\"name:\")"
   ]
  },
  {
   "cell_type": "markdown",
   "id": "571e43af",
   "metadata": {
    "slideshow": {
     "slide_type": "subslide"
    }
   },
   "source": [
    "![alt text](https://cdn.lifehack.org/wp-content/uploads/2015/02/Frequent-Traveler-Successful.jpg)"
   ]
  },
  {
   "cell_type": "code",
   "execution_count": null,
   "id": "1a8a1910",
   "metadata": {
    "slideshow": {
     "slide_type": "subslide"
    }
   },
   "outputs": [],
   "source": [
    "input(\"Where is your favorite place to go for holidays?:\")"
   ]
  },
  {
   "cell_type": "markdown",
   "id": "41cb2a93",
   "metadata": {
    "slideshow": {
     "slide_type": "slide"
    }
   },
   "source": [
    "### Lanzarote <a class=\"anchor\" id=\"Lanzarote\"></a>"
   ]
  },
  {
   "cell_type": "markdown",
   "id": "3d927807",
   "metadata": {
    "slideshow": {
     "slide_type": "subslide"
    }
   },
   "source": [
    "![alt text](data:image/jpeg;base64,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)"
   ]
  },
  {
   "cell_type": "markdown",
   "id": "c1e05fa6",
   "metadata": {
    "slideshow": {
     "slide_type": "slide"
    }
   },
   "source": [
    "### Favorite activities <a class=\"anchor\" id=\"Activities\"></a>"
   ]
  },
  {
   "cell_type": "markdown",
   "id": "1876721b",
   "metadata": {
    "slideshow": {
     "slide_type": "subslide"
    }
   },
   "source": [
    "- **Going to surf**\n",
    "- **Eating tapas**\n",
    "- **Walk in the nature**"
   ]
  },
  {
   "cell_type": "markdown",
   "id": "c007ab0a",
   "metadata": {
    "slideshow": {
     "slide_type": "slide"
    }
   },
   "source": [
    "### Video\n",
    "\n",
    "[Lanzarote Video](https://www.youtube.com/watch?v=JHWlSrIgwwE) <a class=\"anchor\" id=\"Video\"></a>"
   ]
  },
  {
   "cell_type": "markdown",
   "id": "47f916da",
   "metadata": {
    "slideshow": {
     "slide_type": "slide"
    }
   },
   "source": [
    "### Notes <a class=\"anchor\" id=\"Notes\"></a>\n",
    "\n",
    "1. I used the input function to get the name and preference.\n",
    "2. I have used an ordered list for activities and I used the bold type of writing using the markdown language.\n",
    "3. I have used the markdown image and video elements to embed an image and share a video link."
   ]
  },
  {
   "cell_type": "code",
   "execution_count": null,
   "id": "8ffd2c7a",
   "metadata": {
    "slideshow": {
     "slide_type": "skip"
    }
   },
   "outputs": [],
   "source": []
  },
  {
   "cell_type": "code",
   "execution_count": null,
   "id": "d510921f",
   "metadata": {
    "slideshow": {
     "slide_type": "skip"
    }
   },
   "outputs": [],
   "source": []
  }
 ],
 "metadata": {
  "celltoolbar": "Slideshow",
  "kernelspec": {
   "display_name": "Python 3 (ipykernel)",
   "language": "python",
   "name": "python3"
  },
  "language_info": {
   "codemirror_mode": {
    "name": "ipython",
    "version": 3
   },
   "file_extension": ".py",
   "mimetype": "text/x-python",
   "name": "python",
   "nbconvert_exporter": "python",
   "pygments_lexer": "ipython3",
   "version": "3.9.7"
  }
 },
 "nbformat": 4,
 "nbformat_minor": 5
}
