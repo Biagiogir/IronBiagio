{
 "cells": [
  {
   "cell_type": "code",
   "execution_count": 23,
   "id": "97bd2561",
   "metadata": {},
   "outputs": [],
   "source": [
    "import config\n"
   ]
  },
  {
   "cell_type": "code",
   "execution_count": 24,
   "id": "aacbb591",
   "metadata": {},
   "outputs": [
    {
     "data": {
      "text/plain": [
       "'a1c0651d0cf841739f114df6afa6adf0'"
      ]
     },
     "execution_count": 24,
     "metadata": {},
     "output_type": "execute_result"
    }
   ],
   "source": [
    "config.c_id"
   ]
  },
  {
   "cell_type": "code",
   "execution_count": 25,
   "id": "70c38f44",
   "metadata": {},
   "outputs": [],
   "source": [
    "import spotipy\n",
    "from spotipy.oauth2 import SpotifyClientCredentials\n",
    "\n",
    "\n",
    "\n",
    "sp = spotipy.Spotify(auth_manager=SpotifyClientCredentials(client_id= config.c_id, client_secret= config.c_se))\n"
   ]
  },
  {
   "cell_type": "code",
   "execution_count": null,
   "id": "acca9485",
   "metadata": {},
   "outputs": [],
   "source": []
  }
 ],
 "metadata": {
  "kernelspec": {
   "display_name": "Python 3 (ipykernel)",
   "language": "python",
   "name": "python3"
  },
  "language_info": {
   "codemirror_mode": {
    "name": "ipython",
    "version": 3
   },
   "file_extension": ".py",
   "mimetype": "text/x-python",
   "name": "python",
   "nbconvert_exporter": "python",
   "pygments_lexer": "ipython3",
   "version": "3.9.7"
  }
 },
 "nbformat": 4,
 "nbformat_minor": 5
}
