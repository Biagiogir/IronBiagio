{
 "cells": [
  {
   "cell_type": "markdown",
   "id": "49cfe39d",
   "metadata": {},
   "source": [
    "# Hypothesis Test\n"
   ]
  },
  {
   "cell_type": "markdown",
   "id": "0f1b14d0",
   "metadata": {},
   "source": [
    "##### It is assumed that the mean systolic blood pressure is μ = 120 mm Hg. In the Honolulu Heart Study, a sample of n = 100 people had an average systolic blood pressure of 130.1 mm Hg with a standard deviation of 21.21 mm Hg. Is the group significantly different (with respect to systolic blood pressure!) from the regular population?\n",
    "\n",
    "- Set up the hypothesis test.\n",
    "- Write down all the steps followed for setting up the test.\n",
    "- Calculate the test statistic by hand and also code it in Python. It should be 4.76190. What decision can you make based on this calculated value?"
   ]
  },
  {
   "cell_type": "code",
   "execution_count": 1,
   "id": "d313b468",
   "metadata": {},
   "outputs": [],
   "source": [
    "import numpy as np\n",
    "import pandas as pd\n",
    "import scipy.stats as stats\n",
    "import matplotlib.pyplot as plt\n",
    "import seaborn as sns\n",
    "\n",
    "%matplotlib inline"
   ]
  },
  {
   "cell_type": "markdown",
   "id": "0385742f",
   "metadata": {},
   "source": [
    "### Hypothesis test\n",
    "- H0: μ= 120; H1: μ!= 120\n",
    "- confidence level= 95%\n",
    "- Using a t-score instead of a z-score because we don't have access to the population standard deviation\n",
    "\n",
    "\n",
    "\n",
    "\n",
    "\n"
   ]
  },
  {
   "cell_type": "markdown",
   "id": "15e68276",
   "metadata": {},
   "source": [
    "### Data\n",
    "1. T = (x – μ) / (σ/√(n))\n",
    "2. x = sample mean = 130.1\n",
    "3. μ= population mean = 120\n",
    "4. σ= sample standard deviation = 21.21\n",
    "5. n = sample number= 100"
   ]
  },
  {
   "cell_type": "code",
   "execution_count": 3,
   "id": "0e939992",
   "metadata": {},
   "outputs": [],
   "source": [
    "sample_mean = 130.1\n",
    "population_mean = 120\n",
    "sample_std = 21.21\n",
    "n = 100"
   ]
  },
  {
   "cell_type": "code",
   "execution_count": 14,
   "id": "63ca3ba7",
   "metadata": {},
   "outputs": [
    {
     "name": "stdout",
     "output_type": "stream",
     "text": [
      "t-score is 4.761904761904759\n"
     ]
    }
   ],
   "source": [
    "#test static\n",
    "t_score = (sample_mean - population_mean)/(sample_std/np.sqrt(n))\n",
    "print(\"t-score is \" + str(t_score))"
   ]
  },
  {
   "cell_type": "markdown",
   "id": "ac7a8123",
   "metadata": {},
   "source": [
    "Critic value of t from the Student's t distribution table with  = 0.05 and (n - 1) degrees of freedom:\n",
    "\n"
   ]
  },
  {
   "cell_type": "code",
   "execution_count": 13,
   "id": "3c1d4299",
   "metadata": {},
   "outputs": [
    {
     "name": "stdout",
     "output_type": "stream",
     "text": [
      "critical value is 1.9842169515086827\n"
     ]
    }
   ],
   "source": [
    "tc = stats.t.ppf(.975, df=99)\n",
    "print(\"critical value is \" + str(tc))"
   ]
  },
  {
   "cell_type": "markdown",
   "id": "c975c04a",
   "metadata": {},
   "source": [
    "We compare both values:\n",
    "Since 4.7619(t_score)> 1.9842(tc), we reject the null hypothesis and accept our Ha: μ!= 120"
   ]
  },
  {
   "cell_type": "markdown",
   "id": "d612acf1",
   "metadata": {},
   "source": [
    "In a packing plant, a machine packs cartons with jars. It is supposed that a new machine will pack faster on the average than the machine currently used. To test that hypothesis, the times it takes each machine to pack ten cartons are recorded. The results, in seconds, are shown in the tables in the file Data/machine.txt. Assume that there is sufficient evidence to conduct the t test, does the data provide sufficient evidence to show if one machine is better than the other"
   ]
  },
  {
   "cell_type": "code",
   "execution_count": null,
   "id": "efe905e6",
   "metadata": {},
   "outputs": [],
   "source": []
  }
 ],
 "metadata": {
  "kernelspec": {
   "display_name": "Python 3 (ipykernel)",
   "language": "python",
   "name": "python3"
  },
  "language_info": {
   "codemirror_mode": {
    "name": "ipython",
    "version": 3
   },
   "file_extension": ".py",
   "mimetype": "text/x-python",
   "name": "python",
   "nbconvert_exporter": "python",
   "pygments_lexer": "ipython3",
   "version": "3.9.7"
  }
 },
 "nbformat": 4,
 "nbformat_minor": 5
}
