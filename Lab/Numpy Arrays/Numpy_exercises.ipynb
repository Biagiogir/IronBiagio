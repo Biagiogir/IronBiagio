{
 "cells": [
  {
   "cell_type": "markdown",
   "id": "686efad5",
   "metadata": {},
   "source": [
    "1. Import the numpy package under the name np (★☆☆)"
   ]
  },
  {
   "cell_type": "code",
   "execution_count": 1,
   "id": "8cf82403",
   "metadata": {},
   "outputs": [],
   "source": [
    "import numpy as np"
   ]
  },
  {
   "cell_type": "markdown",
   "id": "1039c550",
   "metadata": {},
   "source": [
    "2. Create a null vector of size 10 (★☆☆)"
   ]
  },
  {
   "cell_type": "code",
   "execution_count": 3,
   "id": "07821755",
   "metadata": {},
   "outputs": [
    {
     "name": "stdout",
     "output_type": "stream",
     "text": [
      "[0. 0. 0. 0. 0. 0. 0. 0. 0. 0.]\n"
     ]
    }
   ],
   "source": [
    "a = np.zeros(10)\n",
    "print(a)"
   ]
  },
  {
   "cell_type": "markdown",
   "id": "94e6d2e6",
   "metadata": {},
   "source": [
    "3. Create a null vector of size 10 but the fifth value which is 1 (★☆☆)"
   ]
  },
  {
   "cell_type": "code",
   "execution_count": 124,
   "id": "636d69ea",
   "metadata": {},
   "outputs": [],
   "source": [
    "a1 = np.zeros(10)\n",
    "a[4] = 1"
   ]
  },
  {
   "cell_type": "markdown",
   "id": "4f934947",
   "metadata": {},
   "source": [
    "4. Create a vector with values ranging from 10 to 49 (★☆☆)"
   ]
  },
  {
   "cell_type": "code",
   "execution_count": 4,
   "id": "9a76ed7a",
   "metadata": {},
   "outputs": [
    {
     "data": {
      "text/plain": [
       "array([10, 11, 12, 13, 14, 15, 16, 17, 18, 19, 20, 21, 22, 23, 24, 25, 26,\n",
       "       27, 28, 29, 30, 31, 32, 33, 34, 35, 36, 37, 38, 39, 40, 41, 42, 43,\n",
       "       44, 45, 46, 47, 48])"
      ]
     },
     "execution_count": 4,
     "metadata": {},
     "output_type": "execute_result"
    }
   ],
   "source": [
    "np.arange(10, 49)"
   ]
  },
  {
   "cell_type": "markdown",
   "id": "2ab6e60b",
   "metadata": {},
   "source": [
    "5. Create a 3x3 matrix with values ranging from 0 to 8 (★☆☆)"
   ]
  },
  {
   "cell_type": "code",
   "execution_count": 7,
   "id": "25674b9f",
   "metadata": {},
   "outputs": [
    {
     "data": {
      "text/plain": [
       "array([[0, 1, 2],\n",
       "       [3, 4, 5],\n",
       "       [6, 7, 8]])"
      ]
     },
     "execution_count": 7,
     "metadata": {},
     "output_type": "execute_result"
    }
   ],
   "source": [
    "np.arange(0, 9).reshape((3, 3))"
   ]
  },
  {
   "cell_type": "markdown",
   "id": "3dc81263",
   "metadata": {},
   "source": [
    "6. Find indices of non-zero elements from [1,2,0,0,4,0] (★☆☆)"
   ]
  },
  {
   "cell_type": "code",
   "execution_count": 8,
   "id": "4ba0c2bc",
   "metadata": {},
   "outputs": [
    {
     "data": {
      "text/plain": [
       "(array([0, 1, 4]),)"
      ]
     },
     "execution_count": 8,
     "metadata": {},
     "output_type": "execute_result"
    }
   ],
   "source": [
    "b = ([1,2,0,0,4,0])\n",
    "np.nonzero(b)"
   ]
  },
  {
   "cell_type": "markdown",
   "id": "9b2b7201",
   "metadata": {},
   "source": [
    "7. Create a 3x3 identity matrix (★☆☆)"
   ]
  },
  {
   "cell_type": "code",
   "execution_count": 11,
   "id": "ce95de68",
   "metadata": {},
   "outputs": [
    {
     "data": {
      "text/plain": [
       "array([[1., 0., 0.],\n",
       "       [0., 1., 0.],\n",
       "       [0., 0., 1.]])"
      ]
     },
     "execution_count": 11,
     "metadata": {},
     "output_type": "execute_result"
    }
   ],
   "source": [
    "np.eye(3)"
   ]
  },
  {
   "cell_type": "markdown",
   "id": "c122df1c",
   "metadata": {},
   "source": [
    "8. Create a 3x3x3 array with random values (★☆☆)"
   ]
  },
  {
   "cell_type": "code",
   "execution_count": 14,
   "id": "c2d05185",
   "metadata": {},
   "outputs": [
    {
     "data": {
      "text/plain": [
       "array([[[0.43014981, 0.73985185, 0.17828396],\n",
       "        [0.09472042, 0.96884858, 0.23225721],\n",
       "        [0.0144813 , 0.26645411, 0.86146181]],\n",
       "\n",
       "       [[0.62305653, 0.71063315, 0.46386607],\n",
       "        [0.90419519, 0.33662162, 0.96640568],\n",
       "        [0.29770579, 0.0489828 , 0.42526911]],\n",
       "\n",
       "       [[0.66360198, 0.3285239 , 0.13008855],\n",
       "        [0.01065832, 0.32700378, 0.80437327],\n",
       "        [0.34197618, 0.58154827, 0.33811129]]])"
      ]
     },
     "execution_count": 14,
     "metadata": {},
     "output_type": "execute_result"
    }
   ],
   "source": [
    "np.random.random((3,3,3))"
   ]
  },
  {
   "cell_type": "markdown",
   "id": "5e0dca38",
   "metadata": {},
   "source": [
    "9. Create a 10x10 array with random values and find the minimum and maximum values (★☆☆)"
   ]
  },
  {
   "cell_type": "code",
   "execution_count": 20,
   "id": "93e6968d",
   "metadata": {},
   "outputs": [
    {
     "data": {
      "text/plain": [
       "(1.986223957828326e-05, 0.9947981954357358)"
      ]
     },
     "execution_count": 20,
     "metadata": {},
     "output_type": "execute_result"
    }
   ],
   "source": [
    "c = np.random.random((10,10))\n",
    "np.min(c), np.max(c)"
   ]
  },
  {
   "cell_type": "markdown",
   "id": "d7f9963c",
   "metadata": {},
   "source": [
    "10. Create a random vector of size 30 and find the mean value (★☆☆)"
   ]
  },
  {
   "cell_type": "code",
   "execution_count": 22,
   "id": "f264eb10",
   "metadata": {},
   "outputs": [
    {
     "data": {
      "text/plain": [
       "0.484106361463312"
      ]
     },
     "execution_count": 22,
     "metadata": {},
     "output_type": "execute_result"
    }
   ],
   "source": [
    "d= np.random.random(30)\n",
    "np.mean(d)"
   ]
  },
  {
   "cell_type": "markdown",
   "id": "3fa6946f",
   "metadata": {},
   "source": [
    "11. Create a 5x5 matrix with values 1,2,3,4 just below the diagonal (★☆☆)"
   ]
  },
  {
   "cell_type": "code",
   "execution_count": 59,
   "id": "dced886a",
   "metadata": {},
   "outputs": [
    {
     "data": {
      "text/plain": [
       "array([[0, 0, 0, 0, 0],\n",
       "       [1, 0, 0, 0, 0],\n",
       "       [0, 2, 0, 0, 0],\n",
       "       [0, 0, 3, 0, 0],\n",
       "       [0, 0, 0, 4, 0]])"
      ]
     },
     "execution_count": 59,
     "metadata": {},
     "output_type": "execute_result"
    }
   ],
   "source": [
    "np.diag([1,2,3,4], -1)"
   ]
  },
  {
   "cell_type": "markdown",
   "id": "8d6b94c7",
   "metadata": {},
   "source": [
    "12. Normalize a 5x5 random matrix (★☆☆)"
   ]
  },
  {
   "cell_type": "code",
   "execution_count": 69,
   "id": "c43581e9",
   "metadata": {},
   "outputs": [
    {
     "name": "stdout",
     "output_type": "stream",
     "text": [
      "[[0.58975618 0.17423925 0.27813015 0.2919102  0.452387  ]\n",
      " [0.66135699 0.23231568 0.79274393 0.99693886 0.96209863]\n",
      " [0.67647848 0.8710082  0.50234865 0.32586319 0.24106791]\n",
      " [0.77495991 0.66574027 0.40706528 0.03499388 0.96813499]\n",
      " [0.15918123 0.99894523 0.47568599 0.45253714 0.13913206]]\n",
      "[[ 0.22088352 -1.19646284 -0.84208645 -0.79508208 -0.24768875]\n",
      " [ 0.46511699 -0.9983616   0.9132836   1.60980139  1.49095984]\n",
      " [ 0.51669708  1.18024641 -0.07726736 -0.67926696 -0.96850737]\n",
      " [ 0.85262153  0.48006856 -0.40228309 -1.67143485  1.51155014]\n",
      " [-1.2478264   1.61664519 -0.16821487 -0.24717662 -1.31621498]]\n",
      "0\n",
      "1.0\n"
     ]
    }
   ],
   "source": [
    "g = np.random.random((5,5))\n",
    "g1 = (g - np.mean(g))/np.std(g)\n",
    "print(g)\n",
    "print(g1)\n",
    "print(round(np.mean(g1)))\n",
    "print(np.std(g1))"
   ]
  },
  {
   "cell_type": "markdown",
   "id": "02b85da4",
   "metadata": {},
   "source": [
    "13. How to find common values between two arrays? (★☆☆)"
   ]
  },
  {
   "cell_type": "code",
   "execution_count": 45,
   "id": "df57efcc",
   "metadata": {},
   "outputs": [
    {
     "name": "stdout",
     "output_type": "stream",
     "text": [
      "[6 9 3 8 7 5 9 4]\n",
      "[6 3 6 8 4 5 6 5]\n"
     ]
    },
    {
     "data": {
      "text/plain": [
       "array([3, 4, 5, 6, 8])"
      ]
     },
     "execution_count": 45,
     "metadata": {},
     "output_type": "execute_result"
    }
   ],
   "source": [
    "x = np.random.randint(1, 10, size=8)\n",
    "y = np.random.randint(2, 10, size=8)\n",
    "print(x)\n",
    "print(y)\n",
    "np.intersect1d(x,y)"
   ]
  },
  {
   "cell_type": "markdown",
   "id": "1ee557da",
   "metadata": {},
   "source": [
    "14. Create a random vector of size 10 and sort it (★★☆)"
   ]
  },
  {
   "cell_type": "code",
   "execution_count": 47,
   "id": "3c6b70df",
   "metadata": {},
   "outputs": [
    {
     "name": "stdout",
     "output_type": "stream",
     "text": [
      "[0.46465485 0.75806492 0.72523456 0.97640692 0.36120642 0.70512692\n",
      " 0.03929192 0.19324478 0.65761867 0.72581255]\n"
     ]
    },
    {
     "data": {
      "text/plain": [
       "array([0.03929192, 0.19324478, 0.36120642, 0.46465485, 0.65761867,\n",
       "       0.70512692, 0.72523456, 0.72581255, 0.75806492, 0.97640692])"
      ]
     },
     "execution_count": 47,
     "metadata": {},
     "output_type": "execute_result"
    }
   ],
   "source": [
    "vector = np.random.random(10)\n",
    "print(vector)\n",
    "np.sort(vector)"
   ]
  },
  {
   "cell_type": "markdown",
   "id": "337f17b0",
   "metadata": {},
   "source": [
    "15. Create random vector of size 10 and replace the maximum value by 0 (★★☆)"
   ]
  },
  {
   "cell_type": "code",
   "execution_count": 77,
   "id": "2cb6cf33",
   "metadata": {},
   "outputs": [
    {
     "name": "stdout",
     "output_type": "stream",
     "text": [
      "[0.73420402 0.85780177 0.76605636 0.6143478  0.         0.82580202\n",
      " 0.17161049 0.63709603 0.24147078 0.45329615]\n"
     ]
    }
   ],
   "source": [
    "vec = np.random.random(10)\n",
    "vec[np.argmax(vec)] = 0\n",
    "print(vec)\n"
   ]
  },
  {
   "cell_type": "markdown",
   "id": "fe4f0006",
   "metadata": {},
   "source": [
    "16. Subtract the mean of each row of a matrix (★★☆)"
   ]
  },
  {
   "cell_type": "code",
   "execution_count": 114,
   "id": "4d2deacb",
   "metadata": {},
   "outputs": [
    {
     "name": "stdout",
     "output_type": "stream",
     "text": [
      "0.5712116560180656\n",
      "[[0.20954354 0.46113399 0.80249361]\n",
      " [0.68161104 0.89800929 0.72956455]\n",
      " [0.22293132 0.13930964 0.99630794]]\n",
      "[[-0.28151351 -0.02992305  0.31143656]\n",
      " [-0.08811726  0.128281   -0.04016374]\n",
      " [-0.22991832 -0.31353999  0.54345831]]\n"
     ]
    }
   ],
   "source": [
    "matrix = np.random.random((3,3))\n",
    "print(np.mean(matrix))\n",
    "print(matrix)\n",
    "y= matrix-np.mean(matrix,axis=1,keepdims=True)\n",
    "print(y)"
   ]
  },
  {
   "cell_type": "markdown",
   "id": "c02fe801",
   "metadata": {},
   "source": [
    "17. How to get the n largest values of an array (★★★)"
   ]
  },
  {
   "cell_type": "code",
   "execution_count": 115,
   "id": "7a7f77ff",
   "metadata": {},
   "outputs": [
    {
     "name": "stdout",
     "output_type": "stream",
     "text": [
      "[   0    1    2 ... 9997 9998 9999]\n",
      "[4429 2100 7877 ... 6819 6012 2521]\n"
     ]
    },
    {
     "data": {
      "text/plain": [
       "array([9995, 9996, 9997, 9999, 9998])"
      ]
     },
     "execution_count": 115,
     "metadata": {},
     "output_type": "execute_result"
    }
   ],
   "source": [
    "Z = np.arange(10000) \n",
    "print(Z)\n",
    "np.random.shuffle(Z)\n",
    "print(Z)\n",
    "Z[np.argpartition(Z, -5)[-5:]]\n",
    "\n"
   ]
  },
  {
   "cell_type": "code",
   "execution_count": 107,
   "id": "963e9f6d",
   "metadata": {},
   "outputs": [
    {
     "data": {
      "text/plain": [
       "array([9995, 9996, 9997, 9998, 9999])"
      ]
     },
     "execution_count": 107,
     "metadata": {},
     "output_type": "execute_result"
    }
   ],
   "source": [
    "Z[np.argsort(Z)[-5:]]\n"
   ]
  },
  {
   "cell_type": "markdown",
   "id": "8d2f4303",
   "metadata": {},
   "source": [
    "18. Create a random 5*3 matrix and replace items that are larger than 4 by their squares ( Example: 6 --> 36)"
   ]
  },
  {
   "cell_type": "code",
   "execution_count": 123,
   "id": "9672296b",
   "metadata": {},
   "outputs": [
    {
     "name": "stdout",
     "output_type": "stream",
     "text": [
      "[[9 7 2]\n",
      " [6 8 2]\n",
      " [6 7 8]\n",
      " [0 7 5]\n",
      " [2 4 1]]\n"
     ]
    },
    {
     "data": {
      "text/plain": [
       "array([[81, 49,  2],\n",
       "       [36, 64,  2],\n",
       "       [36, 49, 64],\n",
       "       [ 0, 49, 25],\n",
       "       [ 2,  4,  1]])"
      ]
     },
     "execution_count": 123,
     "metadata": {},
     "output_type": "execute_result"
    }
   ],
   "source": [
    "x = np.random.randint(0, 10, (5, 3))\n",
    "print(x)\n",
    "np.where(x > 4, x**2, x)"
   ]
  },
  {
   "cell_type": "code",
   "execution_count": null,
   "id": "d1849920",
   "metadata": {},
   "outputs": [],
   "source": []
  }
 ],
 "metadata": {
  "kernelspec": {
   "display_name": "Python 3 (ipykernel)",
   "language": "python",
   "name": "python3"
  },
  "language_info": {
   "codemirror_mode": {
    "name": "ipython",
    "version": 3
   },
   "file_extension": ".py",
   "mimetype": "text/x-python",
   "name": "python",
   "nbconvert_exporter": "python",
   "pygments_lexer": "ipython3",
   "version": "3.9.7"
  }
 },
 "nbformat": 4,
 "nbformat_minor": 5
}
